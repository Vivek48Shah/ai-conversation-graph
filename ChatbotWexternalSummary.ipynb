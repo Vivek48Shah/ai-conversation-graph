{
 "cells": [
  {
   "cell_type": "code",
   "execution_count": 2,
   "metadata": {},
   "outputs": [],
   "source": [
    "import sqlite3\n",
    "import os "
   ]
  },
  {
   "cell_type": "code",
   "execution_count": 11,
   "metadata": {},
   "outputs": [],
   "source": [
    "### ENTER YOUR OPEN AI API KEY HERE\n",
    "os.environ['OPENAI_API_KEY'] = \"\""
   ]
  },
  {
   "cell_type": "code",
   "execution_count": 3,
   "metadata": {},
   "outputs": [],
   "source": [
    "import sqlite3\n",
    "# In memory\n",
    "\n",
    "conn = sqlite3.connect(\":memory:\", check_same_thread = False)"
   ]
  },
  {
   "cell_type": "code",
   "execution_count": 3,
   "metadata": {},
   "outputs": [],
   "source": [
    "# Create a Local database file\n",
    "\n",
    "os.makedirs(\"state_db\", exist_ok=True)\n",
    "db_path = \"state_db/example.db\"\n",
    "conn = sqlite3.connect(db_path, check_same_thread=False)"
   ]
  },
  {
   "cell_type": "code",
   "execution_count": 5,
   "metadata": {},
   "outputs": [],
   "source": [
    "from langgraph.checkpoint.sqlite import SqliteSaver\n",
    "memory = SqliteSaver(conn)"
   ]
  },
  {
   "cell_type": "code",
   "execution_count": 6,
   "metadata": {},
   "outputs": [],
   "source": [
    "from langchain_openai import ChatOpenAI\n",
    "from langchain_core.messages import SystemMessage, HumanMessage, RemoveMessage\n",
    "from langgraph.graph import END\n",
    "from langgraph.graph import MessagesState"
   ]
  },
  {
   "cell_type": "code",
   "execution_count": null,
   "metadata": {},
   "outputs": [],
   "source": [
    "model = ChatOpenAI(model=\"gpt-4o-mini\",temperature=0.2)"
   ]
  },
  {
   "cell_type": "code",
   "execution_count": 8,
   "metadata": {},
   "outputs": [],
   "source": [
    "class State(MessagesState): \n",
    "    summary: str\n",
    "\n",
    "def call_model(state: State): \n",
    "    summaries= state.get(\"summary\",\"\")\n",
    "\n",
    "    if summaries: \n",
    "        system_message=f\" Summary of the conversation so far: {summaries}\"\n",
    "        messages=[SystemMessage(content=system_message)] + state['messages']\n",
    "    else:\n",
    "        messages= state['messages']\n",
    "\n",
    "    response=model.invoke(messages)\n",
    "    return {\"messages\": response} \n",
    "\n",
    "def summarize_converstaion(state:State): \n",
    "\n",
    "    summary= state.get(\"summary\",\"\")\n",
    "    if summary: \n",
    "\n",
    "        summary_message=(f\"This is the summary of the conversation so far: {summary}\\n\\n\"\n",
    "        \"Extend the summary by taking into account the last message in the conversation.\\n\\n\")\n",
    "\n",
    "    else: \n",
    "        summary_message=\" Please Summarize the conversation so far\"\n",
    "\n",
    "    messages= state['messages'] + [HumanMessage(content=summary_message)]\n",
    "    response=model.invoke(messages)\n",
    "\n",
    "    delete_messages= [RemoveMessage(id=m.id) for m in state['messages'][:-2]]\n",
    "\n",
    "    return {\"summary\": response.content, \"messages\": delete_messages}\n",
    "\n",
    "def end_or_summarize(state=State): \n",
    "\n",
    "    messages= state['messages']\n",
    "\n",
    "    if len(messages) > 6:\n",
    "        return \"summarize_converstaion\"\n",
    "    else:\n",
    "        return END \n",
    "                        \n",
    "        \n",
    "       \n",
    "\n",
    "\n",
    "\n",
    "    "
   ]
  },
  {
   "cell_type": "code",
   "execution_count": 9,
   "metadata": {},
   "outputs": [
    {
     "data": {
      "image/png": "[encoded data removed]",
      "text/plain": [
       "<IPython.core.display.Image object>"
      ]
     },
     "metadata": {},
     "output_type": "display_data"
    }
   ],
   "source": [
    "from IPython.display import Image, display\n",
    "from langgraph.graph import StateGraph, START\n",
    "\n",
    "workflow= StateGraph(State) \n",
    "workflow.add_node(\"conversation\", call_model)\n",
    "workflow.add_node(summarize_converstaion)\n",
    "\n",
    "workflow.add_edge(START, \"conversation\")\n",
    "workflow.add_conditional_edges(\"conversation\", end_or_summarize)\n",
    "workflow.add_edge( \"summarize_converstaion\",END)\n",
    "\n",
    "\n",
    "graph = workflow.compile(checkpointer=memory)\n",
    "display(Image(graph.get_graph().draw_mermaid_png()))"
   ]
  },
  {
   "cell_type": "code",
   "execution_count": 9,
   "metadata": {},
   "outputs": [
    {
     "name": "stdout",
     "output_type": "stream",
     "text": [
      "==================================\u001b[1m Ai Message \u001b[0m==================================\n",
      "\n",
      "I can't remember tasks or information beyond this conversation, but I can help you organize your tasks and suggest ways to keep track of them! You could write them down, use a task management app, or set reminders on your phone. What tasks do you need to manage this week?\n"
     ]
    }
   ],
   "source": [
    "config = {\n",
    "    \"configurable\": {\n",
    "        \"thread_id\": \"1\",\n",
    "        \"max_tokens\": 10  # Limit output to 10 tokens\n",
    "    }\n",
    "}\n",
    "\n",
    "input_message = HumanMessage(content=\"Hey, I’ve got a hectic week ahead. Can you remember the tasks I give you to help me stay on track?\")\n",
    "output = graph.invoke({\"messages\": [input_message]}, config)\n",
    "for m in output['messages'][-1:]:\n",
    "    m.pretty_print()\n",
    "\n"
   ]
  },
  {
   "cell_type": "code",
   "execution_count": 10,
   "metadata": {},
   "outputs": [
    {
     "name": "stdout",
     "output_type": "stream",
     "text": [
      "==================================\u001b[1m Ai Message \u001b[0m==================================\n",
      "\n",
      "Got it! You have a client meeting on Wednesday at 2 PM. Would you like to add any other tasks or details related to this meeting, or do you have more tasks to share?\n"
     ]
    }
   ],
   "source": [
    "input_message = HumanMessage(content=\"I have a client meeting on Wednesday at 2pm.\")\n",
    "output = graph.invoke({\"messages\": [input_message]}, config)\n",
    "for m in output['messages'][-1:]:\n",
    "    m.pretty_print()"
   ]
  },
  {
   "cell_type": "code",
   "execution_count": 11,
   "metadata": {},
   "outputs": [
    {
     "name": "stdout",
     "output_type": "stream",
     "text": [
      "==================================\u001b[1m Ai Message \u001b[0m==================================\n",
      "\n",
      "Great! So far, you have:\n",
      "\n",
      "1. **Client meeting** on **Wednesday at 2 PM**.\n",
      "2. **Submit the monthly report** by **Friday EOD**.\n",
      "\n",
      "Would you like to add any more tasks or details?\n"
     ]
    }
   ],
   "source": [
    "input_message = HumanMessage(content=\"No,Thanks. I also need to submit the monthly report by Friday EOD.\")\n",
    "output = graph.invoke({\"messages\": [input_message]}, config)\n",
    "for m in output['messages'][-1:]:\n",
    "    m.pretty_print()"
   ]
  },
  {
   "cell_type": "code",
   "execution_count": 12,
   "metadata": {},
   "outputs": [
    {
     "name": "stdout",
     "output_type": "stream",
     "text": [
      "==================================\u001b[1m Ai Message \u001b[0m==================================\n",
      "\n",
      "Got it! Here’s your updated list:\n",
      "\n",
      "1. **Client meeting** on **Wednesday at 2 PM**.\n",
      "2. **Submit the monthly report** by **Friday EOD**.\n",
      "3. **Buy a gift for your mom's birthday** on **Tuesday**.\n",
      "\n",
      "If you have more tasks or need help with anything else, just let me know!\n"
     ]
    }
   ],
   "source": [
    "input_message = HumanMessage(content=\"Sure, my mom’s birthday is on Tuesday. Remind me to buy a gift for her.\")\n",
    "output = graph.invoke({\"messages\": [input_message]}, config)\n",
    "for m in output['messages'][-1:]:\n",
    "    m.pretty_print()\n"
   ]
  },
  {
   "cell_type": "code",
   "execution_count": 13,
   "metadata": {},
   "outputs": [
    {
     "name": "stdout",
     "output_type": "stream",
     "text": [
      "StateSnapshot(values={'messages': [HumanMessage(content='Sure, my mom’s birthday is on Tuesday. Remind me to buy a gift for her.', additional_kwargs={}, response_metadata={}, id='f1d327b3-74e6-4ab8-a84a-95154435d57e'), AIMessage(content=\"Got it! Here’s your updated list:\\n\\n1. **Client meeting** on **Wednesday at 2 PM**.\\n2. **Submit the monthly report** by **Friday EOD**.\\n3. **Buy a gift for your mom's birthday** on **Tuesday**.\\n\\nIf you have more tasks or need help with anything else, just let me know!\", additional_kwargs={'refusal': None}, response_metadata={'token_usage': {'completion_tokens': 74, 'prompt_tokens': 249, 'total_tokens': 323, 'completion_tokens_details': {'accepted_prediction_tokens': 0, 'audio_tokens': 0, 'reasoning_tokens': 0, 'rejected_prediction_tokens': 0}, 'prompt_tokens_details': {'audio_tokens': 0, 'cached_tokens': 0}}, 'model_name': 'gpt-4o-mini-2024-07-18', 'system_fingerprint': 'fp_b376dfbbd5', 'id': 'chatcmpl-BJ5vdwl1SjM2kyesM9oGF4SsqYnKY', 'finish_reason': 'stop', 'logprobs': None}, id='run-ef993b6c-10d4-4866-b119-d7a6401b2a4b-0', usage_metadata={'input_tokens': 249, 'output_tokens': 74, 'total_tokens': 323, 'input_token_details': {'audio': 0, 'cache_read': 0}, 'output_token_details': {'audio': 0, 'reasoning': 0}})], 'summary': \"Here's a summary of your tasks for the week:\\n\\n1. **Client meeting** on **Wednesday at 2 PM**.\\n2. **Submit the monthly report** by **Friday EOD**.\\n3. **Buy a gift for your mom's birthday** on **Tuesday**.\\n\\nIf you have any more tasks to add or need assistance with anything else, feel free to let me know!\"}, next=(), config={'configurable': {'thread_id': '1', 'checkpoint_ns': '', 'checkpoint_id': '1f0126a1-4352-66a4-800b-4b7ffd5cb69e'}}, metadata={'source': 'loop', 'writes': {'summarize_converstaion': {'summary': \"Here's a summary of your tasks for the week:\\n\\n1. **Client meeting** on **Wednesday at 2 PM**.\\n2. **Submit the monthly report** by **Friday EOD**.\\n3. **Buy a gift for your mom's birthday** on **Tuesday**.\\n\\nIf you have any more tasks to add or need assistance with anything else, feel free to let me know!\", 'messages': [RemoveMessage(content='', additional_kwargs={}, response_metadata={}, id='18878a56-3523-4af8-a80f-0dd6807c2446'), RemoveMessage(content='', additional_kwargs={}, response_metadata={}, id='run-77e23e2d-bb13-4194-9b09-75ae16028954-0'), RemoveMessage(content='', additional_kwargs={}, response_metadata={}, id='88854951-a308-44ac-a3f7-14744798c105'), RemoveMessage(content='', additional_kwargs={}, response_metadata={}, id='run-066c9887-1459-492e-833c-a4cd3fd538e0-0'), RemoveMessage(content='', additional_kwargs={}, response_metadata={}, id='ef8d9895-808c-437c-a6a7-ffebd6d2ff6a'), RemoveMessage(content='', additional_kwargs={}, response_metadata={}, id='run-3489ddf5-b53f-4bd6-810e-4c4faf3e6b37-0')]}}, 'step': 11, 'parents': {}, 'thread_id': '1', 'max_tokens': 10}, created_at='2025-04-05T22:05:26.334588+00:00', parent_config={'configurable': {'thread_id': '1', 'checkpoint_ns': '', 'checkpoint_id': '1f0126a1-32bd-6c80-800a-1f4d3c666c7d'}}, tasks=())\n"
     ]
    }
   ],
   "source": [
    "\n",
    "config = {\"configurable\": {\"thread_id\": \"1\"}}\n",
    "graph_state = graph.get_state(config)\n",
    "print(graph_state)\n",
    "\n"
   ]
  },
  {
   "cell_type": "markdown",
   "metadata": {},
   "source": [
    "### Since we have used database like Sqlite it means that the state has been saved.\n",
    "\n",
    "#### For example, even if I restart the notebook kernel, it should have the same state loaded in the SQL DB on local disk "
   ]
  },
  {
   "cell_type": "code",
   "execution_count": 10,
   "metadata": {},
   "outputs": [
    {
     "name": "stdout",
     "output_type": "stream",
     "text": [
      "StateSnapshot(values={'messages': [HumanMessage(content='Sure, my mom’s birthday is on Tuesday. Remind me to buy a gift for her.', additional_kwargs={}, response_metadata={}, id='f1d327b3-74e6-4ab8-a84a-95154435d57e'), AIMessage(content=\"Got it! Here’s your updated list:\\n\\n1. **Client meeting** on **Wednesday at 2 PM**.\\n2. **Submit the monthly report** by **Friday EOD**.\\n3. **Buy a gift for your mom's birthday** on **Tuesday**.\\n\\nIf you have more tasks or need help with anything else, just let me know!\", additional_kwargs={'refusal': None}, response_metadata={'token_usage': {'completion_tokens': 74, 'prompt_tokens': 249, 'total_tokens': 323, 'completion_tokens_details': {'accepted_prediction_tokens': 0, 'audio_tokens': 0, 'reasoning_tokens': 0, 'rejected_prediction_tokens': 0}, 'prompt_tokens_details': {'audio_tokens': 0, 'cached_tokens': 0}}, 'model_name': 'gpt-4o-mini-2024-07-18', 'system_fingerprint': 'fp_b376dfbbd5', 'id': 'chatcmpl-BJ5vdwl1SjM2kyesM9oGF4SsqYnKY', 'finish_reason': 'stop', 'logprobs': None}, id='run-ef993b6c-10d4-4866-b119-d7a6401b2a4b-0', usage_metadata={'input_tokens': 249, 'output_tokens': 74, 'total_tokens': 323, 'input_token_details': {'audio': 0, 'cache_read': 0}, 'output_token_details': {'audio': 0, 'reasoning': 0}})], 'summary': \"Here's a summary of your tasks for the week:\\n\\n1. **Client meeting** on **Wednesday at 2 PM**.\\n2. **Submit the monthly report** by **Friday EOD**.\\n3. **Buy a gift for your mom's birthday** on **Tuesday**.\\n\\nIf you have any more tasks to add or need assistance with anything else, feel free to let me know!\"}, next=(), config={'configurable': {'thread_id': '1', 'checkpoint_ns': '', 'checkpoint_id': '1f0126a1-4352-66a4-800b-4b7ffd5cb69e'}}, metadata={'source': 'loop', 'writes': {'summarize_converstaion': {'summary': \"Here's a summary of your tasks for the week:\\n\\n1. **Client meeting** on **Wednesday at 2 PM**.\\n2. **Submit the monthly report** by **Friday EOD**.\\n3. **Buy a gift for your mom's birthday** on **Tuesday**.\\n\\nIf you have any more tasks to add or need assistance with anything else, feel free to let me know!\", 'messages': [RemoveMessage(content='', additional_kwargs={}, response_metadata={}, id='18878a56-3523-4af8-a80f-0dd6807c2446'), RemoveMessage(content='', additional_kwargs={}, response_metadata={}, id='run-77e23e2d-bb13-4194-9b09-75ae16028954-0'), RemoveMessage(content='', additional_kwargs={}, response_metadata={}, id='88854951-a308-44ac-a3f7-14744798c105'), RemoveMessage(content='', additional_kwargs={}, response_metadata={}, id='run-066c9887-1459-492e-833c-a4cd3fd538e0-0'), RemoveMessage(content='', additional_kwargs={}, response_metadata={}, id='ef8d9895-808c-437c-a6a7-ffebd6d2ff6a'), RemoveMessage(content='', additional_kwargs={}, response_metadata={}, id='run-3489ddf5-b53f-4bd6-810e-4c4faf3e6b37-0')]}}, 'step': 11, 'parents': {}, 'thread_id': '1', 'max_tokens': 10}, created_at='2025-04-05T22:05:26.334588+00:00', parent_config={'configurable': {'thread_id': '1', 'checkpoint_ns': '', 'checkpoint_id': '1f0126a1-32bd-6c80-800a-1f4d3c666c7d'}}, tasks=())\n"
     ]
    }
   ],
   "source": [
    "\n",
    "config = {\"configurable\": {\"thread_id\": \"1\"}}\n",
    "graph_state = graph.get_state(config)\n",
    "print(graph_state)"
   ]
  }
 ],
 "metadata": {
  "kernelspec": {
   "display_name": "agenticai",
   "language": "python",
   "name": "python3"
  },
  "language_info": {
   "codemirror_mode": {
    "name": "ipython",
    "version": 3
   },
   "file_extension": ".py",
   "mimetype": "text/x-python",
   "name": "python",
   "nbconvert_exporter": "python",
   "pygments_lexer": "ipython3",
   "version": "3.10.11"
  }
 },
 "nbformat": 4,
 "nbformat_minor": 2
}
